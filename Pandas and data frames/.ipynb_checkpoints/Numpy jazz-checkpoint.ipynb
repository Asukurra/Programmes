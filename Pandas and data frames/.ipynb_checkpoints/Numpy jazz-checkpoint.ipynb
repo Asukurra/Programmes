{
 "cells": [
  {
   "cell_type": "code",
   "execution_count": 9,
   "id": "understanding-egyptian",
   "metadata": {},
   "outputs": [],
   "source": [
    "import numpy"
   ]
  },
  {
   "cell_type": "code",
   "execution_count": 2,
   "id": "pregnant-tractor",
   "metadata": {},
   "outputs": [],
   "source": [
    "n=numpy.arange(27)\n",
    "# the .arange(number) is a creates a list of numbers - 0-26 in the above"
   ]
  },
  {
   "cell_type": "code",
   "execution_count": 3,
   "id": "useful-cancellation",
   "metadata": {},
   "outputs": [
    {
     "data": {
      "text/plain": [
       "array([ 0,  1,  2,  3,  4,  5,  6,  7,  8,  9, 10, 11, 12, 13, 14, 15, 16,\n",
       "       17, 18, 19, 20, 21, 22, 23, 24, 25, 26])"
      ]
     },
     "execution_count": 3,
     "metadata": {},
     "output_type": "execute_result"
    }
   ],
   "source": [
    "n"
   ]
  },
  {
   "cell_type": "code",
   "execution_count": 4,
   "id": "amateur-sunday",
   "metadata": {},
   "outputs": [
    {
     "data": {
      "text/plain": [
       "array([[ 0,  1,  2,  3,  4,  5,  6,  7,  8],\n",
       "       [ 9, 10, 11, 12, 13, 14, 15, 16, 17],\n",
       "       [18, 19, 20, 21, 22, 23, 24, 25, 26]])"
      ]
     },
     "execution_count": 4,
     "metadata": {},
     "output_type": "execute_result"
    }
   ],
   "source": [
    "n.reshape(3,9)"
   ]
  },
  {
   "cell_type": "code",
   "execution_count": 5,
   "id": "understood-explorer",
   "metadata": {},
   "outputs": [
    {
     "data": {
      "text/plain": [
       "array([[[ 0,  1,  2],\n",
       "        [ 3,  4,  5],\n",
       "        [ 6,  7,  8]],\n",
       "\n",
       "       [[ 9, 10, 11],\n",
       "        [12, 13, 14],\n",
       "        [15, 16, 17]],\n",
       "\n",
       "       [[18, 19, 20],\n",
       "        [21, 22, 23],\n",
       "        [24, 25, 26]]])"
      ]
     },
     "execution_count": 5,
     "metadata": {},
     "output_type": "execute_result"
    }
   ],
   "source": [
    "n.reshape(3,3,3)"
   ]
  },
  {
   "cell_type": "code",
   "execution_count": 6,
   "id": "designing-limitation",
   "metadata": {},
   "outputs": [],
   "source": [
    "m=numpy.asarray(n)"
   ]
  },
  {
   "cell_type": "code",
   "execution_count": 7,
   "id": "finnish-conversation",
   "metadata": {},
   "outputs": [
    {
     "data": {
      "text/plain": [
       "array([ 0,  1,  2,  3,  4,  5,  6,  7,  8,  9, 10, 11, 12, 13, 14, 15, 16,\n",
       "       17, 18, 19, 20, 21, 22, 23, 24, 25, 26])"
      ]
     },
     "execution_count": 7,
     "metadata": {},
     "output_type": "execute_result"
    }
   ],
   "source": [
    "m\n",
    "# you can use the .asarray to turn the numpy object type into an array "
   ]
  },
  {
   "cell_type": "code",
   "execution_count": 11,
   "id": "military-tulsa",
   "metadata": {},
   "outputs": [],
   "source": [
    "import cv2"
   ]
  },
  {
   "cell_type": "code",
   "execution_count": 13,
   "id": "compliant-finland",
   "metadata": {},
   "outputs": [
    {
     "data": {
      "text/plain": [
       "array([[187, 158, 104, 121, 143],\n",
       "       [198, 125, 255, 255, 147],\n",
       "       [209, 134, 255,  97, 182]], dtype=uint8)"
      ]
     },
     "execution_count": 13,
     "metadata": {},
     "output_type": "execute_result"
    }
   ],
   "source": [
    "gray=cv2.imread(\"smallgray.png\",0)\n",
    "# cv2.imread (image read) is a module from OpenCV-Python installed through pip\n",
    "# the args are (\"filename\",0 OR 1) 0 is greyscale and 1 is BGR colour\n",
    "gray"
   ]
  },
  {
   "cell_type": "code",
   "execution_count": 14,
   "id": "acceptable-timeline",
   "metadata": {},
   "outputs": [],
   "source": [
    "# the list above is the color for each pixel, this is a 5x3 picture so each one number is a pixel\n",
    "# as this is in greyscale it only has the 0 - 255 black to white scale"
   ]
  },
  {
   "cell_type": "code",
   "execution_count": 15,
   "id": "friendly-listening",
   "metadata": {},
   "outputs": [
    {
     "data": {
      "text/plain": [
       "array([[[187, 187, 187],\n",
       "        [158, 158, 158],\n",
       "        [104, 104, 104],\n",
       "        [121, 121, 121],\n",
       "        [143, 143, 143]],\n",
       "\n",
       "       [[198, 198, 198],\n",
       "        [125, 125, 125],\n",
       "        [255, 255, 255],\n",
       "        [255, 255, 255],\n",
       "        [147, 147, 147]],\n",
       "\n",
       "       [[209, 209, 209],\n",
       "        [134, 134, 134],\n",
       "        [255, 255, 255],\n",
       "        [ 97,  97,  97],\n",
       "        [182, 182, 182]]], dtype=uint8)"
      ]
     },
     "execution_count": 15,
     "metadata": {},
     "output_type": "execute_result"
    }
   ],
   "source": [
    "gray=cv2.imread(\"smallgray.png\",1)\n",
    "gray"
   ]
  },
  {
   "cell_type": "code",
   "execution_count": 16,
   "id": "close-samba",
   "metadata": {},
   "outputs": [],
   "source": [
    "# each one of these numbers is the BGR color, to make things more confuseing the array is no longer in the same order\n",
    "#instead of top left then going right it now goes down, the same index in each array shows how much blue, green, red in \n",
    "# pixel "
   ]
  },
  {
   "cell_type": "code",
   "execution_count": 17,
   "id": "forced-amber",
   "metadata": {},
   "outputs": [
    {
     "data": {
      "text/plain": [
       "True"
      ]
     },
     "execution_count": 17,
     "metadata": {},
     "output_type": "execute_result"
    }
   ],
   "source": [
    "cv2.imwrite(\"newsmallgrey.png\", gray)"
   ]
  },
  {
   "cell_type": "code",
   "execution_count": 21,
   "id": "massive-rental",
   "metadata": {},
   "outputs": [],
   "source": [
    "# the above is writing a new array to a picture, the cv2.imwrite(\"fileNameYouWant\",array for pixels)\n",
    "#True means it has saved with no problem "
   ]
  },
  {
   "cell_type": "code",
   "execution_count": 29,
   "id": "chubby-universal",
   "metadata": {},
   "outputs": [
    {
     "data": {
      "text/plain": [
       "array([[187, 158, 104, 121, 143],\n",
       "       [198, 125, 255, 255, 147],\n",
       "       [209, 134, 255,  97, 182]], dtype=uint8)"
      ]
     },
     "execution_count": 29,
     "metadata": {},
     "output_type": "execute_result"
    }
   ],
   "source": [
    "gray=cv2.imread(\"smallgray.png\",0)\n",
    "gray"
   ]
  },
  {
   "cell_type": "code",
   "execution_count": 30,
   "id": "incorporated-photographer",
   "metadata": {},
   "outputs": [
    {
     "name": "stdout",
     "output_type": "stream",
     "text": [
      "[187 158 104 121 143]\n",
      "[198 125 255 255 147]\n",
      "[209 134 255  97 182]\n"
     ]
    }
   ],
   "source": [
    "for i in gray:\n",
    "    print(i)"
   ]
  },
  {
   "cell_type": "code",
   "execution_count": 23,
   "id": "olive-mixer",
   "metadata": {
    "collapsed": true
   },
   "outputs": [
    {
     "name": "stdout",
     "output_type": "stream",
     "text": [
      "[[187 187 187]\n",
      " [158 158 158]\n",
      " [104 104 104]\n",
      " [121 121 121]\n",
      " [143 143 143]]\n",
      "[[198 198 198]\n",
      " [125 125 125]\n",
      " [255 255 255]\n",
      " [255 255 255]\n",
      " [147 147 147]]\n",
      "[[209 209 209]\n",
      " [134 134 134]\n",
      " [255 255 255]\n",
      " [ 97  97  97]\n",
      " [182 182 182]]\n"
     ]
    }
   ],
   "source": [
    "# using a standard for loop we can interate over each list"
   ]
  },
  {
   "cell_type": "code",
   "execution_count": 31,
   "id": "computational-florist",
   "metadata": {},
   "outputs": [
    {
     "name": "stdout",
     "output_type": "stream",
     "text": [
      "187\n",
      "158\n",
      "104\n",
      "121\n",
      "143\n",
      "198\n",
      "125\n",
      "255\n",
      "255\n",
      "147\n",
      "209\n",
      "134\n",
      "255\n",
      "97\n",
      "182\n"
     ]
    }
   ],
   "source": [
    "for i in gray.flat:\n",
    "    print(i)"
   ]
  },
  {
   "cell_type": "code",
   "execution_count": 32,
   "id": "engaged-replication",
   "metadata": {},
   "outputs": [],
   "source": [
    "# by using the .flat we can seperate out all the lists and interate over each number not each list\n",
    "# you can slice each array as usual"
   ]
  },
  {
   "cell_type": "code",
   "execution_count": 34,
   "id": "historic-gardening",
   "metadata": {},
   "outputs": [],
   "source": [
    "gray2=numpy.hstack((gray,gray))"
   ]
  },
  {
   "cell_type": "code",
   "execution_count": 35,
   "id": "latest-brisbane",
   "metadata": {},
   "outputs": [],
   "source": [
    "#to stack or concat numpy arrays we can use horiziontal stack (hstack) with 2 arrays, BUT the hstack can \n",
    "#only take 1 arguemnet so we have to pass 2 arrays as a tuple to pass both as a single arg\n",
    "#you can pass as many as you want as a tuple in the hstack arg"
   ]
  },
  {
   "cell_type": "code",
   "execution_count": 36,
   "id": "opened-constraint",
   "metadata": {},
   "outputs": [
    {
     "data": {
      "text/plain": [
       "array([[187, 158, 104, 121, 143, 187, 158, 104, 121, 143],\n",
       "       [198, 125, 255, 255, 147, 198, 125, 255, 255, 147],\n",
       "       [209, 134, 255,  97, 182, 209, 134, 255,  97, 182]], dtype=uint8)"
      ]
     },
     "execution_count": 36,
     "metadata": {},
     "output_type": "execute_result"
    }
   ],
   "source": [
    "gray2"
   ]
  },
  {
   "cell_type": "code",
   "execution_count": 37,
   "id": "controlling-afternoon",
   "metadata": {},
   "outputs": [],
   "source": [
    "# the same applys with vstack for vertical stacking\n",
    "#all the stacks MUST be the same dimensions for it to work"
   ]
  },
  {
   "cell_type": "code",
   "execution_count": 38,
   "id": "stuffed-evanescence",
   "metadata": {},
   "outputs": [],
   "source": [
    "lst=numpy.split(gray2,3)"
   ]
  },
  {
   "cell_type": "code",
   "execution_count": 39,
   "id": "declared-ending",
   "metadata": {},
   "outputs": [],
   "source": [
    "# by using .split(array,to be split into) we can split the larger arrays into equal numbers, it must be divisable "
   ]
  },
  {
   "cell_type": "code",
   "execution_count": null,
   "id": "fantastic-illness",
   "metadata": {},
   "outputs": [],
   "source": []
  }
 ],
 "metadata": {
  "kernelspec": {
   "display_name": "Python 3",
   "language": "python",
   "name": "python3"
  },
  "language_info": {
   "codemirror_mode": {
    "name": "ipython",
    "version": 3
   },
   "file_extension": ".py",
   "mimetype": "text/x-python",
   "name": "python",
   "nbconvert_exporter": "python",
   "pygments_lexer": "ipython3",
   "version": "3.8.5"
  }
 },
 "nbformat": 4,
 "nbformat_minor": 5
}
